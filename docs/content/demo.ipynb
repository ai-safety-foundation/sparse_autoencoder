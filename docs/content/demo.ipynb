{
 "cells": [
  {
   "cell_type": "markdown",
   "metadata": {},
   "source": [
    "# Sparse Autoencoder Training Demo\n",
    "\n",
    "This demo trains a sparse autoencoder on activations from a Tiny Stories 1M model.\n",
    "\n",
    "To do this we setup a *source model* (the TinyStories model) that we want to generate activations\n",
    "from, along with a *source dataset* of prompts to help generate these activations.\n",
    "\n",
    "We also setup a *sparse autoencoder model* which we'll train on these generated activations, to\n",
    "learn a sparse representation of them in higher dimensional space.\n",
    "\n",
    "Finally we'll wrap this all together in a *pipeline*, which alternates between generating\n",
    "activations (storing them in ram), and training the SAE on said activations."
   ]
  },
  {
   "cell_type": "markdown",
   "metadata": {},
   "source": [
    "## Setup"
   ]
  },
  {
   "cell_type": "markdown",
   "metadata": {},
   "source": [
    "### Imports"
   ]
  },
  {
   "cell_type": "code",
   "execution_count": 1,
   "metadata": {},
   "outputs": [
    {
     "name": "stdout",
     "output_type": "stream",
     "text": [
      "Using device: mps\n"
     ]
    }
   ],
   "source": [
    "%load_ext autoreload\n",
    "%autoreload 2\n",
    "\n",
    "import os\n",
    "from pathlib import Path\n",
    "\n",
    "import torch\n",
    "from transformer_lens import HookedTransformer\n",
    "from transformer_lens.utils import get_device\n",
    "from transformers import PreTrainedTokenizerBase\n",
    "import wandb\n",
    "\n",
    "from sparse_autoencoder import SparseAutoencoder\n",
    "from sparse_autoencoder.activation_resampler import ActivationResampler\n",
    "from sparse_autoencoder.loss.learned_activations_l1 import LearnedActivationsL1Loss\n",
    "from sparse_autoencoder.loss.mse_reconstruction_loss import MSEReconstructionLoss\n",
    "from sparse_autoencoder.loss.reducer import LossReducer\n",
    "from sparse_autoencoder.optimizer.adam_with_reset import AdamWithReset\n",
    "from sparse_autoencoder.source_data.text_dataset import GenericTextDataset\n",
    "from sparse_autoencoder.train.pipeline import Pipeline\n",
    "\n",
    "\n",
    "os.environ[\"TOKENIZERS_PARALLELISM\"] = \"false\"\n",
    "\n",
    "device = get_device()\n",
    "print(f\"Using device: {device}\")  # You will need a GPU"
   ]
  },
  {
   "cell_type": "markdown",
   "metadata": {},
   "source": [
    "### Hyperparameters"
   ]
  },
  {
   "cell_type": "markdown",
   "metadata": {},
   "source": [
    "The way this library works is that you can define your own hyper-parameters and then setup the\n",
    "underlying components with them. This is extremely flexible, but to help you get started we've\n",
    "included some common ones below along with some sensible defaults. You can also easily sweep through\n",
    "multiple hyperparameters with `wandb.sweep`."
   ]
  },
  {
   "cell_type": "code",
   "execution_count": 2,
   "metadata": {},
   "outputs": [],
   "source": [
    "hyperparameters = {\n",
    "    # Expansion factor is the number of features in the sparse representation, relative to the\n",
    "    # number of features in the original MLP layer. The original paper experimented with 1x to 256x,\n",
    "    # and we have found that 4x is a good starting point.\n",
    "    \"expansion_factor\": 4,\n",
    "    # L1 coefficient is the coefficient of the L1 regularization term (used to encourage sparsity).\n",
    "    \"l1_coefficient\": 0.001,\n",
    "    # Adam parameters (set to the default ones here)\n",
    "    \"lr\": 0.001,\n",
    "    \"adam_beta_1\": 0.9,\n",
    "    \"adam_beta_2\": 0.999,\n",
    "    \"adam_epsilon\": 1e-8,\n",
    "    \"adam_weight_decay\": 0.0,\n",
    "    # Batch sizes\n",
    "    \"train_batch_size\": 8192,\n",
    "}"
   ]
  },
  {
   "cell_type": "markdown",
   "metadata": {},
   "source": [
    "### Source Model"
   ]
  },
  {
   "cell_type": "markdown",
   "metadata": {},
   "source": [
    "The source model is just a [TransformerLens](https://github.com/neelnanda-io/TransformerLens) model\n",
    "(see [here](https://neelnanda-io.github.io/TransformerLens/generated/model_properties_table.html)\n",
    "for a full list of supported models).\n",
    "\n",
    "In this example we're training a sparse autoencoder on the activations from the first MLP layer, so\n",
    "we'll also get some details about that hook point."
   ]
  },
  {
   "cell_type": "code",
   "execution_count": 3,
   "metadata": {},
   "outputs": [
    {
     "name": "stderr",
     "output_type": "stream",
     "text": [
      "Using pad_token, but it is not set yet.\n"
     ]
    },
    {
     "name": "stdout",
     "output_type": "stream",
     "text": [
      "Loaded pretrained model tiny-stories-1M into HookedTransformer\n"
     ]
    },
    {
     "data": {
      "text/plain": [
       "'Source: tiny-stories-1M, Hook: blocks.0.mlp.hook_post, Features: 256'"
      ]
     },
     "execution_count": 3,
     "metadata": {},
     "output_type": "execute_result"
    }
   ],
   "source": [
    "# Source model setup with TransformerLens\n",
    "src_model_name = \"tiny-stories-1M\"\n",
    "src_model = HookedTransformer.from_pretrained(src_model_name, dtype=\"float32\")\n",
    "\n",
    "# Details about the activations we'll train the sparse autoencoder on\n",
    "src_model_activation_hook_point = \"blocks.0.mlp.hook_post\"\n",
    "src_model_activation_layer = 0\n",
    "src_d_mlp: int = src_model.cfg.d_mlp  # type: ignore (TransformerLens typing is currently broken)\n",
    "\n",
    "f\"Source: {src_model_name}, Hook: {src_model_activation_hook_point}, Features: {src_d_mlp}\""
   ]
  },
  {
   "cell_type": "markdown",
   "metadata": {},
   "source": [
    "### Sparse Autoencoder"
   ]
  },
  {
   "cell_type": "markdown",
   "metadata": {},
   "source": [
    "We can then setup the sparse autoencoder. The default model (`SparseAutoencoder`) is setup as per\n",
    "the original Anthropic paper [Towards Monosemanticity: Decomposing Language Models With Dictionary\n",
    "Learning ](https://transformer-circuits.pub/2023/monosemantic-features/index.html).\n",
    "\n",
    "However it's just a standard PyTorch model, so you can create your own model instead if you want to\n",
    "use a different architecture. To do this you just need to extend the `AbstractAutoencoder`, and\n",
    "optionally the underlying `AbstractEncoder`, `AbstractDecoder` and `AbstractOuterBias`. See these\n",
    "classes (which are fully documented) for more details."
   ]
  },
  {
   "cell_type": "code",
   "execution_count": 4,
   "metadata": {},
   "outputs": [
    {
     "data": {
      "text/plain": [
       "SparseAutoencoder(\n",
       "  (_pre_encoder_bias): TiedBias(position=pre_encoder)\n",
       "  (_encoder): LinearEncoder(\n",
       "    in_features=256, out_features=1024\n",
       "    (activation_function): ReLU()\n",
       "  )\n",
       "  (_decoder): UnitNormDecoder(in_features=1024, out_features=256)\n",
       "  (_post_decoder_bias): TiedBias(position=post_decoder)\n",
       ")"
      ]
     },
     "execution_count": 4,
     "metadata": {},
     "output_type": "execute_result"
    }
   ],
   "source": [
    "expansion_factor = hyperparameters[\"expansion_factor\"]\n",
    "autoencoder = SparseAutoencoder(\n",
    "    n_input_features=src_d_mlp,  # size of the activations we are autoencoding\n",
    "    n_learned_features=int(src_d_mlp * expansion_factor),  # size of SAE\n",
    "    geometric_median_dataset=torch.zeros(src_d_mlp),  # this is used to initialize the tied bias\n",
    ").to(device)\n",
    "autoencoder  # Print the model (it's pretty straightforward)"
   ]
  },
  {
   "cell_type": "markdown",
   "metadata": {},
   "source": [
    "We'll also want to setup an Optimizer and Loss function. In this case we'll also use the standard\n",
    "approach from the original Anthropic paper. However you can create your own loss functions and\n",
    "optimizers by extending `AbstractLoss` and `AbstractOptimizerWithReset` respectively."
   ]
  },
  {
   "cell_type": "code",
   "execution_count": 5,
   "metadata": {},
   "outputs": [
    {
     "data": {
      "text/plain": [
       "LossReducer(\n",
       "  (0): LearnedActivationsL1Loss(l1_coefficient=0.001)\n",
       "  (1): MSEReconstructionLoss()\n",
       ")"
      ]
     },
     "execution_count": 5,
     "metadata": {},
     "output_type": "execute_result"
    }
   ],
   "source": [
    "# We use a loss reducer, which simply adds up the losses from the underlying loss functions.\n",
    "loss = LossReducer(\n",
    "    LearnedActivationsL1Loss(\n",
    "        l1_coefficient=hyperparameters[\"l1_coefficient\"],\n",
    "    ),\n",
    "    MSEReconstructionLoss(),\n",
    ")\n",
    "loss"
   ]
  },
  {
   "cell_type": "code",
   "execution_count": 6,
   "metadata": {},
   "outputs": [
    {
     "data": {
      "text/plain": [
       "AdamWithReset (\n",
       "Parameter Group 0\n",
       "    amsgrad: False\n",
       "    betas: (0.9, 0.999)\n",
       "    capturable: False\n",
       "    differentiable: False\n",
       "    eps: 1e-08\n",
       "    foreach: None\n",
       "    fused: None\n",
       "    lr: 0.001\n",
       "    maximize: False\n",
       "    weight_decay: 0.0\n",
       ")"
      ]
     },
     "execution_count": 6,
     "metadata": {},
     "output_type": "execute_result"
    }
   ],
   "source": [
    "optimizer = AdamWithReset(\n",
    "    params=autoencoder.parameters(),\n",
    "    named_parameters=autoencoder.named_parameters(),\n",
    "    lr=hyperparameters[\"lr\"],\n",
    "    betas=(hyperparameters[\"adam_beta_1\"], hyperparameters[\"adam_beta_2\"]),\n",
    "    eps=hyperparameters[\"adam_epsilon\"],\n",
    "    weight_decay=hyperparameters[\"adam_weight_decay\"],\n",
    ")\n",
    "optimizer"
   ]
  },
  {
   "cell_type": "markdown",
   "metadata": {},
   "source": [
    "Finally we'll initialise an activation resampler."
   ]
  },
  {
   "cell_type": "code",
   "execution_count": 7,
   "metadata": {},
   "outputs": [],
   "source": [
    "activation_resampler = ActivationResampler()"
   ]
  },
  {
   "cell_type": "markdown",
   "metadata": {},
   "source": [
    "### Source dataset"
   ]
  },
  {
   "cell_type": "markdown",
   "metadata": {},
   "source": [
    "This is just a dataset of tokenized prompts, to be used in generating activations (which are in turn\n",
    "used to train the SAE)."
   ]
  },
  {
   "cell_type": "code",
   "execution_count": 8,
   "metadata": {},
   "outputs": [
    {
     "name": "stderr",
     "output_type": "stream",
     "text": [
      "/Users/alan/Documents/Repos/sparse_autoencoder/.venv/lib/python3.11/site-packages/huggingface_hub/repocard.py:105: UserWarning: Repo card metadata block was not found. Setting CardData to empty.\n",
      "  warnings.warn(\"Repo card metadata block was not found. Setting CardData to empty.\")\n"
     ]
    }
   ],
   "source": [
    "tokenizer: PreTrainedTokenizerBase = src_model.tokenizer  # type: ignore\n",
    "source_data = GenericTextDataset(tokenizer=tokenizer, dataset_path=\"roneneldan/TinyStories\")"
   ]
  },
  {
   "cell_type": "markdown",
   "metadata": {},
   "source": [
    "## Training"
   ]
  },
  {
   "cell_type": "markdown",
   "metadata": {},
   "source": [
    "If you initialise [wandb](https://wandb.ai/site), the pipeline will automatically log all metrics to\n",
    "wandb. However, we should pass in a dictionary with all of our hyperaparameters so they're on \n",
    "wandb. \n",
    "\n",
    "We strongly encourage users to make use of wandb in order to understand the training process."
   ]
  },
  {
   "cell_type": "code",
   "execution_count": 38,
   "metadata": {},
   "outputs": [
    {
     "data": {
      "text/html": [
       "Finishing last run (ID:0husssx5) before initializing another..."
      ],
      "text/plain": [
       "<IPython.core.display.HTML object>"
      ]
     },
     "metadata": {},
     "output_type": "display_data"
    },
    {
     "name": "stderr",
     "output_type": "stream",
     "text": [
      "wandb: WARNING Source type is set to 'repo' but some required information is missing from the environment. A job will not be created from this run. See https://docs.wandb.ai/guides/launch/create-job\n"
     ]
    },
    {
     "data": {
      "application/vnd.jupyter.widget-view+json": {
       "model_id": "b049b4d8b39049cba9265683580f1e05",
       "version_major": 2,
       "version_minor": 0
      },
      "text/plain": [
       "VBox(children=(Label(value='0.001 MB of 0.001 MB uploaded\\r'), FloatProgress(value=1.0, max=1.0)))"
      ]
     },
     "metadata": {},
     "output_type": "display_data"
    },
    {
     "data": {
      "text/html": [
       "<style>\n",
       "    table.wandb td:nth-child(1) { padding: 0 10px; text-align: left ; width: auto;} td:nth-child(2) {text-align: left ; width: 100%}\n",
       "    .wandb-row { display: flex; flex-direction: row; flex-wrap: wrap; justify-content: flex-start; width: 100% }\n",
       "    .wandb-col { display: flex; flex-direction: column; flex-basis: 100%; flex: 1; padding: 10px; }\n",
       "    </style>\n",
       "<div class=\"wandb-row\"><div class=\"wandb-col\"><h3>Run history:</h3><br/><table class=\"wandb\"><tr><td>LearnedActivationsL1Loss</td><td>▁█▅▅▄▄▄▅▆▅▅▅▄▄▄▄▄▄▄▄▄▄▃▄▃▃</td></tr><tr><td>LossReducer</td><td>▁█▅▅▄▃▄▅▅▅▄▅▄▃▄▄▄▄▃▄▃▃▃▄▃▃</td></tr><tr><td>MSEReconstructionLoss</td><td>▅█▄▆▆▃▅▅▄▄▅▅█▁▅▇▄▅▂▄▂▁▃▆▂▂</td></tr></table><br/></div><div class=\"wandb-col\"><h3>Run summary:</h3><br/><table class=\"wandb\"><tr><td>LearnedActivationsL1Loss</td><td>0.00088</td></tr><tr><td>LossReducer</td><td>0.01738</td></tr><tr><td>MSEReconstructionLoss</td><td>0.0165</td></tr></table><br/></div></div>"
      ],
      "text/plain": [
       "<IPython.core.display.HTML object>"
      ]
     },
     "metadata": {},
     "output_type": "display_data"
    },
    {
     "data": {
      "text/html": [
       " View run <strong style=\"color:#cdcd00\">revived-dew-66</strong> at: <a href='https://wandb.ai/alan-cooney/sparse-autoencoder/runs/0husssx5' target=\"_blank\">https://wandb.ai/alan-cooney/sparse-autoencoder/runs/0husssx5</a><br/>Synced 4 W&B file(s), 0 media file(s), 0 artifact file(s) and 0 other file(s)"
      ],
      "text/plain": [
       "<IPython.core.display.HTML object>"
      ]
     },
     "metadata": {},
     "output_type": "display_data"
    },
    {
     "data": {
      "text/html": [
       "Find logs at: <code>.cache/wandb/run-20231122_184420-0husssx5/logs</code>"
      ],
      "text/plain": [
       "<IPython.core.display.HTML object>"
      ]
     },
     "metadata": {},
     "output_type": "display_data"
    },
    {
     "data": {
      "text/html": [
       "Successfully finished last run (ID:0husssx5). Initializing new run:<br/>"
      ],
      "text/plain": [
       "<IPython.core.display.HTML object>"
      ]
     },
     "metadata": {},
     "output_type": "display_data"
    },
    {
     "data": {
      "application/vnd.jupyter.widget-view+json": {
       "model_id": "33963f00cf9e463f8acdd5d8130238dc",
       "version_major": 2,
       "version_minor": 0
      },
      "text/plain": [
       "VBox(children=(Label(value='Waiting for wandb.init()...\\r'), FloatProgress(value=0.011118633333373712, max=1.0…"
      ]
     },
     "metadata": {},
     "output_type": "display_data"
    },
    {
     "data": {
      "text/html": [
       "Tracking run with wandb version 0.16.0"
      ],
      "text/plain": [
       "<IPython.core.display.HTML object>"
      ]
     },
     "metadata": {},
     "output_type": "display_data"
    },
    {
     "data": {
      "text/html": [
       "Run data is saved locally in <code>.cache/wandb/run-20231122_184506-w8u6ija9</code>"
      ],
      "text/plain": [
       "<IPython.core.display.HTML object>"
      ]
     },
     "metadata": {},
     "output_type": "display_data"
    },
    {
     "data": {
      "text/html": [
       "Syncing run <strong><a href='https://wandb.ai/alan-cooney/sparse-autoencoder/runs/w8u6ija9' target=\"_blank\">drawn-jazz-67</a></strong> to <a href='https://wandb.ai/alan-cooney/sparse-autoencoder' target=\"_blank\">Weights & Biases</a> (<a href='https://wandb.me/run' target=\"_blank\">docs</a>)<br/>"
      ],
      "text/plain": [
       "<IPython.core.display.HTML object>"
      ]
     },
     "metadata": {},
     "output_type": "display_data"
    },
    {
     "data": {
      "text/html": [
       " View project at <a href='https://wandb.ai/alan-cooney/sparse-autoencoder' target=\"_blank\">https://wandb.ai/alan-cooney/sparse-autoencoder</a>"
      ],
      "text/plain": [
       "<IPython.core.display.HTML object>"
      ]
     },
     "metadata": {},
     "output_type": "display_data"
    },
    {
     "data": {
      "text/html": [
       " View run at <a href='https://wandb.ai/alan-cooney/sparse-autoencoder/runs/w8u6ija9' target=\"_blank\">https://wandb.ai/alan-cooney/sparse-autoencoder/runs/w8u6ija9</a>"
      ],
      "text/plain": [
       "<IPython.core.display.HTML object>"
      ]
     },
     "metadata": {},
     "output_type": "display_data"
    },
    {
     "data": {
      "text/html": [
       "<button onClick=\"this.nextSibling.style.display='block';this.style.display='none';\">Display W&B run</button><iframe src='https://wandb.ai/alan-cooney/sparse-autoencoder/runs/w8u6ija9?jupyter=true' style='border:none;width:100%;height:420px;display:none;'></iframe>"
      ],
      "text/plain": [
       "<wandb.sdk.wandb_run.Run at 0x30c318890>"
      ]
     },
     "execution_count": 38,
     "metadata": {},
     "output_type": "execute_result"
    }
   ],
   "source": [
    "Path(\".cache/\").mkdir(exist_ok=True)\n",
    "wandb.init(\n",
    "    project=\"sparse-autoencoder\",\n",
    "    dir=\".cache\",\n",
    "    config=hyperparameters,\n",
    ")"
   ]
  },
  {
   "cell_type": "code",
   "execution_count": 43,
   "metadata": {},
   "outputs": [],
   "source": [
    "checkpoint_path = Path(\"../../.checkpoints\")\n",
    "checkpoint_path.mkdir(exist_ok=True)"
   ]
  },
  {
   "cell_type": "code",
   "execution_count": 44,
   "metadata": {},
   "outputs": [
    {
     "data": {
      "application/vnd.jupyter.widget-view+json": {
       "model_id": "819cdeaef00a4afaa00510d0570aabe1",
       "version_major": 2,
       "version_minor": 0
      },
      "text/plain": [
       "Activations trained on:   0%|          | 0/10000000 [00:00<?, ?it/s]"
      ]
     },
     "metadata": {},
     "output_type": "display_data"
    },
    {
     "name": "stderr",
     "output_type": "stream",
     "text": [
      "\u001b[34m\u001b[1mwandb\u001b[0m: \u001b[33mWARNING\u001b[0m Step only supports monotonically increasing values, use define_metric to set a custom x axis. For details see: https://wandb.me/define-metric\n",
      "\u001b[34m\u001b[1mwandb\u001b[0m: \u001b[33mWARNING\u001b[0m (User provided step: 1 is less than current step: 26. Dropping entry: {'LearnedActivationsL1Loss': 0.0006002095760777593, 'MSEReconstructionLoss': 0.016609610989689827, 'LossReducer': 0.017209820449352264, '_timestamp': 1700696816.530786}).\n",
      "\u001b[34m\u001b[1mwandb\u001b[0m: \u001b[33mWARNING\u001b[0m (User provided step: 2 is less than current step: 26. Dropping entry: {'LearnedActivationsL1Loss': 0.002703652251511812, 'MSEReconstructionLoss': 0.018445055931806564, 'LossReducer': 0.02114870771765709, '_timestamp': 1700696816.5601149}).\n",
      "\u001b[34m\u001b[1mwandb\u001b[0m: \u001b[33mWARNING\u001b[0m (User provided step: 3 is less than current step: 26. Dropping entry: {'LearnedActivationsL1Loss': 0.0032743909396231174, 'MSEReconstructionLoss': 0.01743932068347931, 'LossReducer': 0.02071371115744114, '_timestamp': 1700696816.5895832}).\n",
      "\u001b[34m\u001b[1mwandb\u001b[0m: \u001b[33mWARNING\u001b[0m (User provided step: 4 is less than current step: 26. Dropping entry: {'LearnedActivationsL1Loss': 0.0042389798909425735, 'MSEReconstructionLoss': 0.017057333141565323, 'LossReducer': 0.021296313032507896, '_timestamp': 1700696816.6178792}).\n",
      "\u001b[34m\u001b[1mwandb\u001b[0m: \u001b[33mWARNING\u001b[0m (User provided step: 5 is less than current step: 26. Dropping entry: {'LearnedActivationsL1Loss': 0.005294352304190397, 'MSEReconstructionLoss': 0.017176099121570587, 'LossReducer': 0.02247045189142227, '_timestamp': 1700696816.6454341}).\n",
      "\u001b[34m\u001b[1mwandb\u001b[0m: \u001b[33mWARNING\u001b[0m (User provided step: 6 is less than current step: 26. Dropping entry: {'LearnedActivationsL1Loss': 0.005939152091741562, 'MSEReconstructionLoss': 0.017281800508499146, 'LossReducer': 0.023220952600240707, '_timestamp': 1700696816.673546}).\n",
      "\u001b[34m\u001b[1mwandb\u001b[0m: \u001b[33mWARNING\u001b[0m (User provided step: 7 is less than current step: 26. Dropping entry: {'LearnedActivationsL1Loss': 0.005636444315314293, 'MSEReconstructionLoss': 0.016975998878479004, 'LossReducer': 0.022612443193793297, '_timestamp': 1700696816.702175}).\n",
      "\u001b[34m\u001b[1mwandb\u001b[0m: \u001b[33mWARNING\u001b[0m (User provided step: 8 is less than current step: 26. Dropping entry: {'LearnedActivationsL1Loss': 0.006283956579864025, 'MSEReconstructionLoss': 0.01692834496498108, 'LossReducer': 0.02321230247616768, '_timestamp': 1700696816.7309282}).\n",
      "\u001b[34m\u001b[1mwandb\u001b[0m: \u001b[33mWARNING\u001b[0m (User provided step: 9 is less than current step: 26. Dropping entry: {'LearnedActivationsL1Loss': 0.00627057533711195, 'MSEReconstructionLoss': 0.016915645450353622, 'LossReducer': 0.023186221718788147, '_timestamp': 1700696816.761624}).\n",
      "\u001b[34m\u001b[1mwandb\u001b[0m: \u001b[33mWARNING\u001b[0m (User provided step: 10 is less than current step: 26. Dropping entry: {'LearnedActivationsL1Loss': 0.005678890738636255, 'MSEReconstructionLoss': 0.016968637704849243, 'LossReducer': 0.02264752797782421, '_timestamp': 1700696816.790473}).\n",
      "\u001b[34m\u001b[1mwandb\u001b[0m: \u001b[33mWARNING\u001b[0m (User provided step: 11 is less than current step: 26. Dropping entry: {'LearnedActivationsL1Loss': 0.005739828571677208, 'MSEReconstructionLoss': 0.016712721437215805, 'LossReducer': 0.022452550008893013, '_timestamp': 1700696816.8197918}).\n",
      "\u001b[34m\u001b[1mwandb\u001b[0m: \u001b[33mWARNING\u001b[0m (User provided step: 12 is less than current step: 26. Dropping entry: {'LearnedActivationsL1Loss': 0.005675341002643108, 'MSEReconstructionLoss': 0.01712578907608986, 'LossReducer': 0.022801131010055542, '_timestamp': 1700696816.8480902}).\n",
      "\u001b[34m\u001b[1mwandb\u001b[0m: \u001b[33mWARNING\u001b[0m (User provided step: 13 is less than current step: 26. Dropping entry: {'LearnedActivationsL1Loss': 0.004759754985570908, 'MSEReconstructionLoss': 0.01704806461930275, 'LossReducer': 0.021807819604873657, '_timestamp': 1700696816.862986}).\n",
      "\u001b[34m\u001b[1mwandb\u001b[0m: \u001b[33mWARNING\u001b[0m (User provided step: 14 is less than current step: 26. Dropping entry: {'LearnedActivationsL1Loss': 0.004180469084531069, 'MSEReconstructionLoss': 0.016908174380660057, 'LossReducer': 0.02108864299952984, '_timestamp': 1700696818.498286}).\n",
      "\u001b[34m\u001b[1mwandb\u001b[0m: \u001b[33mWARNING\u001b[0m (User provided step: 15 is less than current step: 26. Dropping entry: {'LearnedActivationsL1Loss': 0.0033520497381687164, 'MSEReconstructionLoss': 0.01691344752907753, 'LossReducer': 0.020265497267246246, '_timestamp': 1700696818.528289}).\n",
      "\u001b[34m\u001b[1mwandb\u001b[0m: \u001b[33mWARNING\u001b[0m (User provided step: 16 is less than current step: 26. Dropping entry: {'LearnedActivationsL1Loss': 0.0026715451385825872, 'MSEReconstructionLoss': 0.017181461676955223, 'LossReducer': 0.019853007048368454, '_timestamp': 1700696818.5582561}).\n",
      "\u001b[34m\u001b[1mwandb\u001b[0m: \u001b[33mWARNING\u001b[0m (User provided step: 17 is less than current step: 26. Dropping entry: {'LearnedActivationsL1Loss': 0.001665070652961731, 'MSEReconstructionLoss': 0.01761189103126526, 'LossReducer': 0.01927696168422699, '_timestamp': 1700696818.6961799}).\n",
      "\u001b[34m\u001b[1mwandb\u001b[0m: \u001b[33mWARNING\u001b[0m (User provided step: 18 is less than current step: 26. Dropping entry: {'LearnedActivationsL1Loss': 0.0009259539656341076, 'MSEReconstructionLoss': 0.017825178802013397, 'LossReducer': 0.018751133233308792, '_timestamp': 1700696818.726075}).\n",
      "\u001b[34m\u001b[1mwandb\u001b[0m: \u001b[33mWARNING\u001b[0m (User provided step: 19 is less than current step: 26. Dropping entry: {'LearnedActivationsL1Loss': 0.0008355070021934807, 'MSEReconstructionLoss': 0.01790342852473259, 'LossReducer': 0.01873893477022648, '_timestamp': 1700696818.754091}).\n",
      "\u001b[34m\u001b[1mwandb\u001b[0m: \u001b[33mWARNING\u001b[0m (User provided step: 20 is less than current step: 26. Dropping entry: {'LearnedActivationsL1Loss': 0.0007321464363485575, 'MSEReconstructionLoss': 0.017785783857107162, 'LossReducer': 0.018517930060625076, '_timestamp': 1700696818.782867}).\n",
      "\u001b[34m\u001b[1mwandb\u001b[0m: \u001b[33mWARNING\u001b[0m (User provided step: 21 is less than current step: 26. Dropping entry: {'LearnedActivationsL1Loss': 0.000582924927584827, 'MSEReconstructionLoss': 0.01773391291499138, 'LossReducer': 0.018316837027668953, '_timestamp': 1700696818.813677}).\n",
      "\u001b[34m\u001b[1mwandb\u001b[0m: \u001b[33mWARNING\u001b[0m (User provided step: 22 is less than current step: 26. Dropping entry: {'LearnedActivationsL1Loss': 0.0004895932506769896, 'MSEReconstructionLoss': 0.01785534992814064, 'LossReducer': 0.0183449424803257, '_timestamp': 1700696818.842636}).\n",
      "\u001b[34m\u001b[1mwandb\u001b[0m: \u001b[33mWARNING\u001b[0m (User provided step: 23 is less than current step: 26. Dropping entry: {'LearnedActivationsL1Loss': 0.0006059007719159126, 'MSEReconstructionLoss': 0.017703672870993614, 'LossReducer': 0.0183095745742321, '_timestamp': 1700696818.871861}).\n",
      "\u001b[34m\u001b[1mwandb\u001b[0m: \u001b[33mWARNING\u001b[0m (User provided step: 24 is less than current step: 26. Dropping entry: {'LearnedActivationsL1Loss': 0.0005310835549607873, 'MSEReconstructionLoss': 0.017661264166235924, 'LossReducer': 0.018192347139120102, '_timestamp': 1700696818.9013162}).\n",
      "\u001b[34m\u001b[1mwandb\u001b[0m: \u001b[33mWARNING\u001b[0m (User provided step: 25 is less than current step: 26. Dropping entry: {'LearnedActivationsL1Loss': 0.0005007786094211042, 'MSEReconstructionLoss': 0.01760561764240265, 'LossReducer': 0.01810639537870884, '_timestamp': 1700696818.930881}).\n"
     ]
    },
    {
     "ename": "KeyboardInterrupt",
     "evalue": "",
     "output_type": "error",
     "traceback": [
      "\u001b[0;31m---------------------------------------------------------------------------\u001b[0m",
      "\u001b[0;31mKeyboardInterrupt\u001b[0m                         Traceback (most recent call last)",
      "\u001b[1;32m/Users/alan/Documents/Repos/sparse_autoencoder/docs/content/demo.ipynb Cell 26\u001b[0m line \u001b[0;36m1\n\u001b[1;32m      <a href='vscode-notebook-cell:/Users/alan/Documents/Repos/sparse_autoencoder/docs/content/demo.ipynb#X34sZmlsZQ%3D%3D?line=0'>1</a>\u001b[0m pipeline \u001b[39m=\u001b[39m Pipeline(\n\u001b[1;32m      <a href='vscode-notebook-cell:/Users/alan/Documents/Repos/sparse_autoencoder/docs/content/demo.ipynb#X34sZmlsZQ%3D%3D?line=1'>2</a>\u001b[0m     cache_name\u001b[39m=\u001b[39msrc_model_activation_hook_point,\n\u001b[1;32m      <a href='vscode-notebook-cell:/Users/alan/Documents/Repos/sparse_autoencoder/docs/content/demo.ipynb#X34sZmlsZQ%3D%3D?line=2'>3</a>\u001b[0m     layer\u001b[39m=\u001b[39msrc_model_activation_layer,\n\u001b[0;32m   (...)\u001b[0m\n\u001b[1;32m     <a href='vscode-notebook-cell:/Users/alan/Documents/Repos/sparse_autoencoder/docs/content/demo.ipynb#X34sZmlsZQ%3D%3D?line=10'>11</a>\u001b[0m     checkpoint_directory\u001b[39m=\u001b[39mcheckpoint_path,\n\u001b[1;32m     <a href='vscode-notebook-cell:/Users/alan/Documents/Repos/sparse_autoencoder/docs/content/demo.ipynb#X34sZmlsZQ%3D%3D?line=11'>12</a>\u001b[0m )\n\u001b[0;32m---> <a href='vscode-notebook-cell:/Users/alan/Documents/Repos/sparse_autoencoder/docs/content/demo.ipynb#X34sZmlsZQ%3D%3D?line=13'>14</a>\u001b[0m pipeline\u001b[39m.\u001b[39;49mrun_pipeline(\n\u001b[1;32m     <a href='vscode-notebook-cell:/Users/alan/Documents/Repos/sparse_autoencoder/docs/content/demo.ipynb#X34sZmlsZQ%3D%3D?line=14'>15</a>\u001b[0m     train_batch_size\u001b[39m=\u001b[39;49m\u001b[39mint\u001b[39;49m(hyperparameters[\u001b[39m\"\u001b[39;49m\u001b[39mtrain_batch_size\u001b[39;49m\u001b[39m\"\u001b[39;49m]),\n\u001b[1;32m     <a href='vscode-notebook-cell:/Users/alan/Documents/Repos/sparse_autoencoder/docs/content/demo.ipynb#X34sZmlsZQ%3D%3D?line=15'>16</a>\u001b[0m     max_store_size\u001b[39m=\u001b[39;49m\u001b[39m100_000\u001b[39;49m,\n\u001b[1;32m     <a href='vscode-notebook-cell:/Users/alan/Documents/Repos/sparse_autoencoder/docs/content/demo.ipynb#X34sZmlsZQ%3D%3D?line=16'>17</a>\u001b[0m     \u001b[39m# Sizes for demo purposes (you probably want to scale these by 10x)\u001b[39;49;00m\n\u001b[1;32m     <a href='vscode-notebook-cell:/Users/alan/Documents/Repos/sparse_autoencoder/docs/content/demo.ipynb#X34sZmlsZQ%3D%3D?line=17'>18</a>\u001b[0m     max_activations\u001b[39m=\u001b[39;49m\u001b[39m10_000_000\u001b[39;49m,\n\u001b[1;32m     <a href='vscode-notebook-cell:/Users/alan/Documents/Repos/sparse_autoencoder/docs/content/demo.ipynb#X34sZmlsZQ%3D%3D?line=18'>19</a>\u001b[0m     resample_frequency\u001b[39m=\u001b[39;49m\u001b[39m100_000\u001b[39;49m,\n\u001b[1;32m     <a href='vscode-notebook-cell:/Users/alan/Documents/Repos/sparse_autoencoder/docs/content/demo.ipynb#X34sZmlsZQ%3D%3D?line=19'>20</a>\u001b[0m     checkpoint_frequency\u001b[39m=\u001b[39;49m\u001b[39m100_000\u001b[39;49m,\n\u001b[1;32m     <a href='vscode-notebook-cell:/Users/alan/Documents/Repos/sparse_autoencoder/docs/content/demo.ipynb#X34sZmlsZQ%3D%3D?line=20'>21</a>\u001b[0m )\n",
      "File \u001b[0;32m~/Documents/Repos/sparse_autoencoder/sparse_autoencoder/train/abstract_pipeline.py:196\u001b[0m, in \u001b[0;36mAbstractPipeline.run_pipeline\u001b[0;34m(self, train_batch_size, max_store_size, max_activations, resample_frequency, validate_frequency, checkpoint_frequency)\u001b[0m\n\u001b[1;32m    194\u001b[0m \u001b[39m# Train\u001b[39;00m\n\u001b[1;32m    195\u001b[0m progress_bar\u001b[39m.\u001b[39mset_postfix({\u001b[39m\"\u001b[39m\u001b[39mstage\u001b[39m\u001b[39m\"\u001b[39m: \u001b[39m\"\u001b[39m\u001b[39mtrain\u001b[39m\u001b[39m\"\u001b[39m})\n\u001b[0;32m--> 196\u001b[0m batch_neuron_activity: NeuronActivity \u001b[39m=\u001b[39m \u001b[39mself\u001b[39;49m\u001b[39m.\u001b[39;49mtrain_autoencoder(\n\u001b[1;32m    197\u001b[0m     activation_store, train_batch_size\u001b[39m=\u001b[39;49mtrain_batch_size\n\u001b[1;32m    198\u001b[0m )\n\u001b[1;32m    199\u001b[0m detached_neuron_activity \u001b[39m=\u001b[39m batch_neuron_activity\u001b[39m.\u001b[39mdetach()\u001b[39m.\u001b[39mcpu()\n\u001b[1;32m    200\u001b[0m \u001b[39mif\u001b[39;00m neuron_activity \u001b[39mis\u001b[39;00m \u001b[39mnot\u001b[39;00m \u001b[39mNone\u001b[39;00m:\n",
      "File \u001b[0;32m~/Documents/Repos/sparse_autoencoder/sparse_autoencoder/train/pipeline.py:72\u001b[0m, in \u001b[0;36mPipeline.train_autoencoder\u001b[0;34m(self, activation_store, train_batch_size)\u001b[0m\n\u001b[1;32m     63\u001b[0m activations_dataloader \u001b[39m=\u001b[39m DataLoader(\n\u001b[1;32m     64\u001b[0m     activation_store,\n\u001b[1;32m     65\u001b[0m     batch_size\u001b[39m=\u001b[39mtrain_batch_size,\n\u001b[1;32m     66\u001b[0m )\n\u001b[1;32m     68\u001b[0m learned_activations_fired_count: NeuronActivity \u001b[39m=\u001b[39m torch\u001b[39m.\u001b[39mzeros(\n\u001b[1;32m     69\u001b[0m     \u001b[39mself\u001b[39m\u001b[39m.\u001b[39mautoencoder\u001b[39m.\u001b[39mn_learned_features, dtype\u001b[39m=\u001b[39mtorch\u001b[39m.\u001b[39mint32, device\u001b[39m=\u001b[39mautoencoder_device\n\u001b[1;32m     70\u001b[0m )\n\u001b[0;32m---> 72\u001b[0m \u001b[39mfor\u001b[39;49;00m store_batch \u001b[39min\u001b[39;49;00m activations_dataloader:\n\u001b[1;32m     73\u001b[0m     \u001b[39m# Zero the gradients\u001b[39;49;00m\n\u001b[1;32m     74\u001b[0m     \u001b[39mself\u001b[39;49m\u001b[39m.\u001b[39;49moptimizer\u001b[39m.\u001b[39;49mzero_grad()\n\u001b[1;32m     76\u001b[0m     \u001b[39m# Move the batch to the device (in place)\u001b[39;49;00m\n",
      "File \u001b[0;32m~/Documents/Repos/sparse_autoencoder/.venv/lib/python3.11/site-packages/torch/utils/data/dataloader.py:630\u001b[0m, in \u001b[0;36m_BaseDataLoaderIter.__next__\u001b[0;34m(self)\u001b[0m\n\u001b[1;32m    627\u001b[0m \u001b[39mif\u001b[39;00m \u001b[39mself\u001b[39m\u001b[39m.\u001b[39m_sampler_iter \u001b[39mis\u001b[39;00m \u001b[39mNone\u001b[39;00m:\n\u001b[1;32m    628\u001b[0m     \u001b[39m# TODO(https://github.com/pytorch/pytorch/issues/76750)\u001b[39;00m\n\u001b[1;32m    629\u001b[0m     \u001b[39mself\u001b[39m\u001b[39m.\u001b[39m_reset()  \u001b[39m# type: ignore[call-arg]\u001b[39;00m\n\u001b[0;32m--> 630\u001b[0m data \u001b[39m=\u001b[39m \u001b[39mself\u001b[39;49m\u001b[39m.\u001b[39;49m_next_data()\n\u001b[1;32m    631\u001b[0m \u001b[39mself\u001b[39m\u001b[39m.\u001b[39m_num_yielded \u001b[39m+\u001b[39m\u001b[39m=\u001b[39m \u001b[39m1\u001b[39m\n\u001b[1;32m    632\u001b[0m \u001b[39mif\u001b[39;00m \u001b[39mself\u001b[39m\u001b[39m.\u001b[39m_dataset_kind \u001b[39m==\u001b[39m _DatasetKind\u001b[39m.\u001b[39mIterable \u001b[39mand\u001b[39;00m \\\n\u001b[1;32m    633\u001b[0m         \u001b[39mself\u001b[39m\u001b[39m.\u001b[39m_IterableDataset_len_called \u001b[39mis\u001b[39;00m \u001b[39mnot\u001b[39;00m \u001b[39mNone\u001b[39;00m \u001b[39mand\u001b[39;00m \\\n\u001b[1;32m    634\u001b[0m         \u001b[39mself\u001b[39m\u001b[39m.\u001b[39m_num_yielded \u001b[39m>\u001b[39m \u001b[39mself\u001b[39m\u001b[39m.\u001b[39m_IterableDataset_len_called:\n",
      "File \u001b[0;32m~/Documents/Repos/sparse_autoencoder/.venv/lib/python3.11/site-packages/torch/utils/data/dataloader.py:674\u001b[0m, in \u001b[0;36m_SingleProcessDataLoaderIter._next_data\u001b[0;34m(self)\u001b[0m\n\u001b[1;32m    672\u001b[0m \u001b[39mdef\u001b[39;00m \u001b[39m_next_data\u001b[39m(\u001b[39mself\u001b[39m):\n\u001b[1;32m    673\u001b[0m     index \u001b[39m=\u001b[39m \u001b[39mself\u001b[39m\u001b[39m.\u001b[39m_next_index()  \u001b[39m# may raise StopIteration\u001b[39;00m\n\u001b[0;32m--> 674\u001b[0m     data \u001b[39m=\u001b[39m \u001b[39mself\u001b[39;49m\u001b[39m.\u001b[39;49m_dataset_fetcher\u001b[39m.\u001b[39;49mfetch(index)  \u001b[39m# may raise StopIteration\u001b[39;00m\n\u001b[1;32m    675\u001b[0m     \u001b[39mif\u001b[39;00m \u001b[39mself\u001b[39m\u001b[39m.\u001b[39m_pin_memory:\n\u001b[1;32m    676\u001b[0m         data \u001b[39m=\u001b[39m _utils\u001b[39m.\u001b[39mpin_memory\u001b[39m.\u001b[39mpin_memory(data, \u001b[39mself\u001b[39m\u001b[39m.\u001b[39m_pin_memory_device)\n",
      "File \u001b[0;32m~/Documents/Repos/sparse_autoencoder/.venv/lib/python3.11/site-packages/torch/utils/data/_utils/fetch.py:51\u001b[0m, in \u001b[0;36m_MapDatasetFetcher.fetch\u001b[0;34m(self, possibly_batched_index)\u001b[0m\n\u001b[1;32m     49\u001b[0m         data \u001b[39m=\u001b[39m \u001b[39mself\u001b[39m\u001b[39m.\u001b[39mdataset\u001b[39m.\u001b[39m__getitems__(possibly_batched_index)\n\u001b[1;32m     50\u001b[0m     \u001b[39melse\u001b[39;00m:\n\u001b[0;32m---> 51\u001b[0m         data \u001b[39m=\u001b[39m [\u001b[39mself\u001b[39;49m\u001b[39m.\u001b[39;49mdataset[idx] \u001b[39mfor\u001b[39;49;00m idx \u001b[39min\u001b[39;49;00m possibly_batched_index]\n\u001b[1;32m     52\u001b[0m \u001b[39melse\u001b[39;00m:\n\u001b[1;32m     53\u001b[0m     data \u001b[39m=\u001b[39m \u001b[39mself\u001b[39m\u001b[39m.\u001b[39mdataset[possibly_batched_index]\n",
      "File \u001b[0;32m~/Documents/Repos/sparse_autoencoder/.venv/lib/python3.11/site-packages/torch/utils/data/_utils/fetch.py:51\u001b[0m, in \u001b[0;36m<listcomp>\u001b[0;34m(.0)\u001b[0m\n\u001b[1;32m     49\u001b[0m         data \u001b[39m=\u001b[39m \u001b[39mself\u001b[39m\u001b[39m.\u001b[39mdataset\u001b[39m.\u001b[39m__getitems__(possibly_batched_index)\n\u001b[1;32m     50\u001b[0m     \u001b[39melse\u001b[39;00m:\n\u001b[0;32m---> 51\u001b[0m         data \u001b[39m=\u001b[39m [\u001b[39mself\u001b[39m\u001b[39m.\u001b[39mdataset[idx] \u001b[39mfor\u001b[39;00m idx \u001b[39min\u001b[39;00m possibly_batched_index]\n\u001b[1;32m     52\u001b[0m \u001b[39melse\u001b[39;00m:\n\u001b[1;32m     53\u001b[0m     data \u001b[39m=\u001b[39m \u001b[39mself\u001b[39m\u001b[39m.\u001b[39mdataset[possibly_batched_index]\n",
      "\u001b[0;31mKeyboardInterrupt\u001b[0m: "
     ]
    }
   ],
   "source": [
    "pipeline = Pipeline(\n",
    "    cache_name=src_model_activation_hook_point,\n",
    "    layer=src_model_activation_layer,\n",
    "    source_model=src_model,\n",
    "    autoencoder=autoencoder,\n",
    "    source_dataset=source_data,\n",
    "    optimizer=optimizer,\n",
    "    loss=loss,\n",
    "    activation_resampler=activation_resampler,\n",
    "    source_data_batch_size=8,\n",
    "    checkpoint_directory=checkpoint_path,\n",
    ")\n",
    "\n",
    "pipeline.run_pipeline(\n",
    "    train_batch_size=int(hyperparameters[\"train_batch_size\"]),\n",
    "    max_store_size=100_000,\n",
    "    # Sizes for demo purposes (you probably want to scale these by 10x)\n",
    "    max_activations=10_000_000,\n",
    "    resample_frequency=100_000,\n",
    "    checkpoint_frequency=100_000,\n",
    ")"
   ]
  },
  {
   "cell_type": "code",
   "execution_count": null,
   "metadata": {},
   "outputs": [
    {
     "name": "stderr",
     "output_type": "stream",
     "text": [
      "wandb: WARNING Source type is set to 'repo' but some required information is missing from the environment. A job will not be created from this run. See https://docs.wandb.ai/guides/launch/create-job\n"
     ]
    },
    {
     "data": {
      "application/vnd.jupyter.widget-view+json": {
       "model_id": "a5fe34fbbf954f53818f400c280378b0",
       "version_major": 2,
       "version_minor": 0
      },
      "text/plain": [
       "VBox(children=(Label(value='0.001 MB of 0.001 MB uploaded\\r'), FloatProgress(value=1.0, max=1.0)))"
      ]
     },
     "metadata": {},
     "output_type": "display_data"
    },
    {
     "data": {
      "text/html": [
       "<style>\n",
       "    table.wandb td:nth-child(1) { padding: 0 10px; text-align: left ; width: auto;} td:nth-child(2) {text-align: left ; width: 100%}\n",
       "    .wandb-row { display: flex; flex-direction: row; flex-wrap: wrap; justify-content: flex-start; width: 100% }\n",
       "    .wandb-col { display: flex; flex-direction: column; flex-basis: 100%; flex: 1; padding: 10px; }\n",
       "    </style>\n",
       "<div class=\"wandb-row\"><div class=\"wandb-col\"><h3>Run history:</h3><br/><table class=\"wandb\"><tr><td>LearnedActivationsL1Loss</td><td>█▇▆▆▆▆▇▆▆▆▇▇▅▅▄▅▄▅▆▅▄▄▄▃▃▃▂▄▆▄▆▃▃▁▂▄▃▄▄▅</td></tr><tr><td>LossReducer</td><td>▆▆▄▆▄▅▁▅▆▆▅▇▆▆▄▄▆▆▇█▆▆▆▂▅▆▅▄▅▇▆▆▇▄▄▅▆▅▅▃</td></tr><tr><td>MSEReconstructionLoss</td><td>▆▆▄▆▄▅▁▅▆▆▅▇▆▆▄▄▆▆▇█▆▆▆▃▅▆▆▄▅▇▆▆▇▄▄▆▆▅▅▃</td></tr></table><br/></div><div class=\"wandb-col\"><h3>Run summary:</h3><br/><table class=\"wandb\"><tr><td>LearnedActivationsL1Loss</td><td>0.00015</td></tr><tr><td>LossReducer</td><td>0.01636</td></tr><tr><td>MSEReconstructionLoss</td><td>0.01621</td></tr></table><br/></div></div>"
      ],
      "text/plain": [
       "<IPython.core.display.HTML object>"
      ]
     },
     "metadata": {},
     "output_type": "display_data"
    },
    {
     "data": {
      "text/html": [
       " View run <strong style=\"color:#cdcd00\">likely-silence-59</strong> at: <a href='https://wandb.ai/alan-cooney/sparse-autoencoder/runs/oa3sw525' target=\"_blank\">https://wandb.ai/alan-cooney/sparse-autoencoder/runs/oa3sw525</a><br/>Synced 4 W&B file(s), 0 media file(s), 0 artifact file(s) and 0 other file(s)"
      ],
      "text/plain": [
       "<IPython.core.display.HTML object>"
      ]
     },
     "metadata": {},
     "output_type": "display_data"
    },
    {
     "data": {
      "text/html": [
       "Find logs at: <code>.cache/wandb/run-20231122_173322-oa3sw525/logs</code>"
      ],
      "text/plain": [
       "<IPython.core.display.HTML object>"
      ]
     },
     "metadata": {},
     "output_type": "display_data"
    }
   ],
   "source": [
    "wandb.finish()"
   ]
  },
  {
   "cell_type": "markdown",
   "metadata": {},
   "source": [
    "## Training Advice\n",
    "\n",
    "-- Unfinished --\n",
    "\n",
    "- Check recovery loss is low while sparsity is low as well (<20 L1) usually.\n",
    "- Can't be sure features are useful until you dig into them more. "
   ]
  },
  {
   "cell_type": "markdown",
   "metadata": {},
   "source": [
    "# Analysis\n",
    "\n",
    "-- Unfinished --"
   ]
  }
 ],
 "metadata": {
  "kernelspec": {
   "display_name": ".venv",
   "language": "python",
   "name": "python3"
  },
  "language_info": {
   "codemirror_mode": {
    "name": "ipython",
    "version": 3
   },
   "file_extension": ".py",
   "mimetype": "text/x-python",
   "name": "python",
   "nbconvert_exporter": "python",
   "pygments_lexer": "ipython3",
   "version": "3.11.6"
  }
 },
 "nbformat": 4,
 "nbformat_minor": 2
}
